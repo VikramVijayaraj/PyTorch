{
 "cells": [
  {
   "cell_type": "markdown",
   "metadata": {
    "id": "2ZGVjWFcuuVr"
   },
   "source": [
    "# 5 interesting PyTorch funtions\n",
    "\n",
    "### An short introduction to 5 PyTorch functions. \n",
    "- `torch.eye()`\n",
    "- `torch.chunk()`\n",
    "- `torch.tile()`\n",
    "- `torch.matrix_power()`\n",
    "- `torch.Tensor.clone()`\n"
   ]
  },
  {
   "cell_type": "code",
   "execution_count": 81,
   "metadata": {
    "executionInfo": {
     "elapsed": 318,
     "status": "ok",
     "timestamp": 1633421072590,
     "user": {
      "displayName": "Vikram Vijayaraj",
      "photoUrl": "https://lh3.googleusercontent.com/a-/AOh14Gjb62tBN5pkHkCifEW9lxvCklKO9JozJr5JdquV=s64",
      "userId": "03084184960498933467"
     },
     "user_tz": -330
    },
    "id": "nn43C4bFuuVv"
   },
   "outputs": [],
   "source": [
    "# Import torch and other required modules\n",
    "import torch\n",
    "import numpy"
   ]
  },
  {
   "cell_type": "markdown",
   "metadata": {
    "id": "55Cnb0dWuuVw"
   },
   "source": [
    "## Function 1 - torch.eye()\n",
    "\n",
    "> `torch.eye` returns a 2D tensor with the values of diagonals as 1 and other values as 0"
   ]
  },
  {
   "cell_type": "code",
   "execution_count": 19,
   "metadata": {
    "colab": {
     "base_uri": "https://localhost:8080/"
    },
    "executionInfo": {
     "elapsed": 340,
     "status": "ok",
     "timestamp": 1633409616462,
     "user": {
      "displayName": "Vikram Vijayaraj",
      "photoUrl": "https://lh3.googleusercontent.com/a-/AOh14Gjb62tBN5pkHkCifEW9lxvCklKO9JozJr5JdquV=s64",
      "userId": "03084184960498933467"
     },
     "user_tz": -330
    },
    "id": "nQHDyfruuuVy",
    "outputId": "ee15396a-b6e4-4d96-e08c-f519cb86f9c9"
   },
   "outputs": [
    {
     "data": {
      "text/plain": [
       "tensor([[1., 0., 0.],\n",
       "        [0., 1., 0.],\n",
       "        [0., 0., 1.]])"
      ]
     },
     "execution_count": 19,
     "metadata": {},
     "output_type": "execute_result"
    }
   ],
   "source": [
    "# Example 1 - working \n",
    "torch.eye(3)"
   ]
  },
  {
   "cell_type": "markdown",
   "metadata": {
    "id": "v6XjTXFruuV2"
   },
   "source": [
    "Here, `n=3` returns a ***3x3*** 2D tensor. If m is not specified, then it returns a 2D tensor of size ***nxn***.\n",
    "And, the data type is `float` by default."
   ]
  },
  {
   "cell_type": "code",
   "execution_count": 20,
   "metadata": {
    "colab": {
     "base_uri": "https://localhost:8080/"
    },
    "executionInfo": {
     "elapsed": 11,
     "status": "ok",
     "timestamp": 1633409651327,
     "user": {
      "displayName": "Vikram Vijayaraj",
      "photoUrl": "https://lh3.googleusercontent.com/a-/AOh14Gjb62tBN5pkHkCifEW9lxvCklKO9JozJr5JdquV=s64",
      "userId": "03084184960498933467"
     },
     "user_tz": -330
    },
    "id": "EkN07I40uuV3",
    "outputId": "6140e32d-d1fe-4ec8-c2fb-24fe014a235b"
   },
   "outputs": [
    {
     "data": {
      "text/plain": [
       "tensor([[1, 0, 0],\n",
       "        [0, 1, 0],\n",
       "        [0, 0, 1],\n",
       "        [0, 0, 0],\n",
       "        [0, 0, 0]])"
      ]
     },
     "execution_count": 20,
     "metadata": {},
     "output_type": "execute_result"
    }
   ],
   "source": [
    "# Example 2 - working\n",
    "torch.eye(5, 3, dtype=int)"
   ]
  },
  {
   "cell_type": "markdown",
   "metadata": {
    "id": "Rf92ymqruuV5"
   },
   "source": [
    "Here, `n=5` and `m=3` returns a 2D tensor of ***nxm*** and argument `dtype=int` used to specify the desired data type of returned tensor.\n",
    "So, the returned tensor is of `int` data type."
   ]
  },
  {
   "cell_type": "code",
   "execution_count": 18,
   "metadata": {
    "colab": {
     "base_uri": "https://localhost:8080/",
     "height": 183
    },
    "executionInfo": {
     "elapsed": 329,
     "status": "error",
     "timestamp": 1633409053390,
     "user": {
      "displayName": "Vikram Vijayaraj",
      "photoUrl": "https://lh3.googleusercontent.com/a-/AOh14Gjb62tBN5pkHkCifEW9lxvCklKO9JozJr5JdquV=s64",
      "userId": "03084184960498933467"
     },
     "user_tz": -330
    },
    "id": "wNSvfQevuuV7",
    "outputId": "f84a0a4c-40de-4337-ea11-d71ec52900fd"
   },
   "outputs": [
    {
     "ename": "RuntimeError",
     "evalue": "ignored",
     "output_type": "error",
     "traceback": [
      "\u001b[0;31m---------------------------------------------------------------------------\u001b[0m",
      "\u001b[0;31mRuntimeError\u001b[0m                              Traceback (most recent call last)",
      "\u001b[0;32m<ipython-input-18-dfb6ec5b8b8b>\u001b[0m in \u001b[0;36m<module>\u001b[0;34m()\u001b[0m\n\u001b[1;32m      1\u001b[0m \u001b[0;31m# Example 3 - breaking (to illustrate when it breaks)\u001b[0m\u001b[0;34m\u001b[0m\u001b[0;34m\u001b[0m\u001b[0;34m\u001b[0m\u001b[0m\n\u001b[0;32m----> 2\u001b[0;31m \u001b[0mtorch\u001b[0m\u001b[0;34m.\u001b[0m\u001b[0meye\u001b[0m\u001b[0;34m(\u001b[0m\u001b[0;34m-\u001b[0m\u001b[0;36m1\u001b[0m\u001b[0;34m)\u001b[0m\u001b[0;34m\u001b[0m\u001b[0;34m\u001b[0m\u001b[0m\n\u001b[0m",
      "\u001b[0;31mRuntimeError\u001b[0m: n must be greater or equal to 0, got -1"
     ]
    }
   ],
   "source": [
    "# Example 3 - breaking (to illustrate when it breaks)\n",
    "torch.eye(-1)"
   ]
  },
  {
   "cell_type": "markdown",
   "metadata": {
    "id": "XF6FNI7NuuV8"
   },
   "source": [
    "`torch.eye` only accepts *positive* numbers.\n"
   ]
  },
  {
   "cell_type": "markdown",
   "metadata": {
    "id": "qy1KWEg4uuV8"
   },
   "source": [
    "This, function is very useful when we want to create a tensor with the diagonals having `1`*'s* and others having `0`*'s*."
   ]
  },
  {
   "cell_type": "markdown",
   "metadata": {
    "id": "YxqDkEI2uuV9"
   },
   "source": [
    "Let's save our work using Jovian before continuing."
   ]
  },
  {
   "cell_type": "markdown",
   "metadata": {
    "id": "JgaEA7hxuuWA"
   },
   "source": [
    "## Function 2 - torch.chunk()\n",
    "\n",
    "> `torch.chunk(input, chunks, dim=0)` → List of Tensors\n",
    "\n",
    "This function splits tensor into defined number of chunks, where \n",
    "- `input` - tensor which needs to be spitted, \n",
    "- `chunks` - number of chunks we need, \n",
    "- `dim` - dimension along which to split."
   ]
  },
  {
   "cell_type": "code",
   "execution_count": 24,
   "metadata": {
    "colab": {
     "base_uri": "https://localhost:8080/"
    },
    "executionInfo": {
     "elapsed": 321,
     "status": "ok",
     "timestamp": 1633417243150,
     "user": {
      "displayName": "Vikram Vijayaraj",
      "photoUrl": "https://lh3.googleusercontent.com/a-/AOh14Gjb62tBN5pkHkCifEW9lxvCklKO9JozJr5JdquV=s64",
      "userId": "03084184960498933467"
     },
     "user_tz": -330
    },
    "id": "FqLIBN0suuWB",
    "outputId": "8b3a75e5-e92b-4722-a380-5a57d34c4669"
   },
   "outputs": [
    {
     "data": {
      "text/plain": [
       "(tensor([1, 2]),\n",
       " tensor([3, 4]),\n",
       " tensor([5, 6]),\n",
       " tensor([7, 8]),\n",
       " tensor([ 9, 10]))"
      ]
     },
     "execution_count": 24,
     "metadata": {},
     "output_type": "execute_result"
    }
   ],
   "source": [
    "# Example 1 - working\n",
    "input = torch.tensor([1, 2, 3, 4, 5, 6, 7, 8, 9, 10])\n",
    "output = torch.chunk(input, 5)\n",
    "output"
   ]
  },
  {
   "cell_type": "markdown",
   "metadata": {
    "id": "r8jUo3OguuWB"
   },
   "source": [
    "In this above example, we have an input tensor with 10 elements in it. Then, it is passed to `torch.chunk()` function with parameter `chunks=5` to split our tensor into 5 chunks."
   ]
  },
  {
   "cell_type": "code",
   "execution_count": 28,
   "metadata": {
    "colab": {
     "base_uri": "https://localhost:8080/"
    },
    "executionInfo": {
     "elapsed": 328,
     "status": "ok",
     "timestamp": 1633417555987,
     "user": {
      "displayName": "Vikram Vijayaraj",
      "photoUrl": "https://lh3.googleusercontent.com/a-/AOh14Gjb62tBN5pkHkCifEW9lxvCklKO9JozJr5JdquV=s64",
      "userId": "03084184960498933467"
     },
     "user_tz": -330
    },
    "id": "Txj6WnuvuuWC",
    "outputId": "64998ce0-941f-4fab-8bf6-18666d69511c"
   },
   "outputs": [
    {
     "data": {
      "text/plain": [
       "(tensor([[1],\n",
       "         [6]]), tensor([[2],\n",
       "         [7]]), tensor([[3],\n",
       "         [8]]), tensor([[4],\n",
       "         [9]]), tensor([[ 5],\n",
       "         [10]]))"
      ]
     },
     "execution_count": 28,
     "metadata": {},
     "output_type": "execute_result"
    }
   ],
   "source": [
    "# Example 2 - working\n",
    "input = torch.tensor([[1, 2, 3, 4, 5], [6, 7, 8, 9, 10]])\n",
    "output = torch.chunk(input, 5, dim=1)\n",
    "output"
   ]
  },
  {
   "cell_type": "markdown",
   "metadata": {
    "id": "j7q-2jTauuWC"
   },
   "source": [
    "In this example we have spitted our tensor into **5** chunks with parameter `dim=0`, this parameter sets up the axis of our tensor to be spitted."
   ]
  },
  {
   "cell_type": "code",
   "execution_count": 30,
   "metadata": {
    "colab": {
     "base_uri": "https://localhost:8080/",
     "height": 217
    },
    "executionInfo": {
     "elapsed": 345,
     "status": "error",
     "timestamp": 1633417822219,
     "user": {
      "displayName": "Vikram Vijayaraj",
      "photoUrl": "https://lh3.googleusercontent.com/a-/AOh14Gjb62tBN5pkHkCifEW9lxvCklKO9JozJr5JdquV=s64",
      "userId": "03084184960498933467"
     },
     "user_tz": -330
    },
    "id": "IzLVo6ajuuWD",
    "outputId": "80ad5b16-d1c0-4382-9e3c-8185515ed156"
   },
   "outputs": [
    {
     "ename": "IndexError",
     "evalue": "ignored",
     "output_type": "error",
     "traceback": [
      "\u001b[0;31m---------------------------------------------------------------------------\u001b[0m",
      "\u001b[0;31mIndexError\u001b[0m                                Traceback (most recent call last)",
      "\u001b[0;32m<ipython-input-30-1f2c2ed02eb1>\u001b[0m in \u001b[0;36m<module>\u001b[0;34m()\u001b[0m\n\u001b[1;32m      1\u001b[0m \u001b[0;31m# Example 3 - breaking\u001b[0m\u001b[0;34m\u001b[0m\u001b[0;34m\u001b[0m\u001b[0;34m\u001b[0m\u001b[0m\n\u001b[1;32m      2\u001b[0m \u001b[0minput\u001b[0m \u001b[0;34m=\u001b[0m \u001b[0mtorch\u001b[0m\u001b[0;34m.\u001b[0m\u001b[0mtensor\u001b[0m\u001b[0;34m(\u001b[0m\u001b[0;34m[\u001b[0m\u001b[0;34m[\u001b[0m\u001b[0;36m1\u001b[0m\u001b[0;34m,\u001b[0m \u001b[0;36m2\u001b[0m\u001b[0;34m,\u001b[0m \u001b[0;36m3\u001b[0m\u001b[0;34m,\u001b[0m \u001b[0;36m4\u001b[0m\u001b[0;34m,\u001b[0m \u001b[0;36m5\u001b[0m\u001b[0;34m]\u001b[0m\u001b[0;34m,\u001b[0m \u001b[0;34m[\u001b[0m\u001b[0;36m6\u001b[0m\u001b[0;34m,\u001b[0m \u001b[0;36m7\u001b[0m\u001b[0;34m,\u001b[0m \u001b[0;36m8\u001b[0m\u001b[0;34m,\u001b[0m \u001b[0;36m9\u001b[0m\u001b[0;34m,\u001b[0m \u001b[0;36m10\u001b[0m\u001b[0;34m]\u001b[0m\u001b[0;34m]\u001b[0m\u001b[0;34m)\u001b[0m\u001b[0;34m\u001b[0m\u001b[0;34m\u001b[0m\u001b[0m\n\u001b[0;32m----> 3\u001b[0;31m \u001b[0moutput\u001b[0m \u001b[0;34m=\u001b[0m \u001b[0mtorch\u001b[0m\u001b[0;34m.\u001b[0m\u001b[0mchunk\u001b[0m\u001b[0;34m(\u001b[0m\u001b[0minput\u001b[0m\u001b[0;34m,\u001b[0m \u001b[0;36m5\u001b[0m\u001b[0;34m,\u001b[0m \u001b[0mdim\u001b[0m\u001b[0;34m=\u001b[0m\u001b[0;36m2\u001b[0m\u001b[0;34m)\u001b[0m\u001b[0;34m\u001b[0m\u001b[0;34m\u001b[0m\u001b[0m\n\u001b[0m\u001b[1;32m      4\u001b[0m \u001b[0moutput\u001b[0m\u001b[0;34m\u001b[0m\u001b[0;34m\u001b[0m\u001b[0m\n",
      "\u001b[0;31mIndexError\u001b[0m: Dimension out of range (expected to be in range of [-2, 1], but got 2)"
     ]
    }
   ],
   "source": [
    "# Example 3 - breaking\n",
    "input = torch.tensor([[1, 2, 3, 4, 5], [6, 7, 8, 9, 10]])\n",
    "output = torch.chunk(input, 5, dim=2)\n",
    "output"
   ]
  },
  {
   "cell_type": "markdown",
   "metadata": {
    "id": "yo721H1IuuWD"
   },
   "source": [
    "As we see function breaks and throws *Index Error* when *dim* parameter is set out of range which can be from *-2 to 1*.\n"
   ]
  },
  {
   "cell_type": "markdown",
   "metadata": {
    "id": "PEFCrl7LuuWE"
   },
   "source": [
    "The use of this function may be very helpful when we have large tensor and need to split it to smaller pieces."
   ]
  },
  {
   "cell_type": "markdown",
   "metadata": {
    "id": "JqK2ISj8uuWF"
   },
   "source": [
    "## Function 3 - torch.tile()\n",
    "\n",
    "> `torch.tile(input, reps)` → Tensor\n",
    "\n",
    "Constructs a tensor by repeating the elements of input. \n",
    "The `reps` argument specifies the number of repetitions in each dimension."
   ]
  },
  {
   "cell_type": "code",
   "execution_count": 49,
   "metadata": {
    "colab": {
     "base_uri": "https://localhost:8080/"
    },
    "executionInfo": {
     "elapsed": 330,
     "status": "ok",
     "timestamp": 1633418354882,
     "user": {
      "displayName": "Vikram Vijayaraj",
      "photoUrl": "https://lh3.googleusercontent.com/a-/AOh14Gjb62tBN5pkHkCifEW9lxvCklKO9JozJr5JdquV=s64",
      "userId": "03084184960498933467"
     },
     "user_tz": -330
    },
    "id": "s_AiMlzmuuWF",
    "outputId": "a45d2aea-9b4f-4b91-edd5-6c25d38ce908"
   },
   "outputs": [
    {
     "data": {
      "text/plain": [
       "tensor([1, 2, 3, 1, 2, 3])"
      ]
     },
     "execution_count": 49,
     "metadata": {},
     "output_type": "execute_result"
    }
   ],
   "source": [
    "# Example 1 - working\n",
    "x = torch.tensor([1, 2, 3])\n",
    "x.tile((2,))"
   ]
  },
  {
   "cell_type": "markdown",
   "metadata": {
    "id": "FO0U_MlGuuWG"
   },
   "source": [
    "Here, tensor `x` is defined and `.tile()` function is called with `reps=((2,))` for *2* repetitions of the tensor."
   ]
  },
  {
   "cell_type": "code",
   "execution_count": 50,
   "metadata": {
    "colab": {
     "base_uri": "https://localhost:8080/"
    },
    "executionInfo": {
     "elapsed": 361,
     "status": "ok",
     "timestamp": 1633418524099,
     "user": {
      "displayName": "Vikram Vijayaraj",
      "photoUrl": "https://lh3.googleusercontent.com/a-/AOh14Gjb62tBN5pkHkCifEW9lxvCklKO9JozJr5JdquV=s64",
      "userId": "03084184960498933467"
     },
     "user_tz": -330
    },
    "id": "g8jxbgvyuuWG",
    "outputId": "28e8243d-19b8-429e-c04b-be47356c995f"
   },
   "outputs": [
    {
     "data": {
      "text/plain": [
       "tensor([[1, 2, 1, 2],\n",
       "        [3, 4, 3, 4],\n",
       "        [1, 2, 1, 2],\n",
       "        [3, 4, 3, 4]])"
      ]
     },
     "execution_count": 50,
     "metadata": {},
     "output_type": "execute_result"
    }
   ],
   "source": [
    "# Example 2 - working\n",
    "y = torch.tensor([[1, 2], [3, 4]])\n",
    "torch.tile(y, (2, 2))"
   ]
  },
  {
   "cell_type": "markdown",
   "metadata": {
    "id": "EVBHWz9euuWH"
   },
   "source": [
    "In this example, tensor `y` is repetited *twice per dimension*. "
   ]
  },
  {
   "cell_type": "code",
   "execution_count": 52,
   "metadata": {
    "colab": {
     "base_uri": "https://localhost:8080/",
     "height": 200
    },
    "executionInfo": {
     "elapsed": 353,
     "status": "error",
     "timestamp": 1633418622689,
     "user": {
      "displayName": "Vikram Vijayaraj",
      "photoUrl": "https://lh3.googleusercontent.com/a-/AOh14Gjb62tBN5pkHkCifEW9lxvCklKO9JozJr5JdquV=s64",
      "userId": "03084184960498933467"
     },
     "user_tz": -330
    },
    "id": "_5SSMOB7uuWH",
    "outputId": "b2ef337a-d652-41f7-f46b-3940943a0b27"
   },
   "outputs": [
    {
     "ename": "RuntimeError",
     "evalue": "ignored",
     "output_type": "error",
     "traceback": [
      "\u001b[0;31m---------------------------------------------------------------------------\u001b[0m",
      "\u001b[0;31mRuntimeError\u001b[0m                              Traceback (most recent call last)",
      "\u001b[0;32m<ipython-input-52-e55f6263e7f4>\u001b[0m in \u001b[0;36m<module>\u001b[0;34m()\u001b[0m\n\u001b[1;32m      1\u001b[0m \u001b[0;31m# Example 3 - breaking\u001b[0m\u001b[0;34m\u001b[0m\u001b[0;34m\u001b[0m\u001b[0;34m\u001b[0m\u001b[0m\n\u001b[1;32m      2\u001b[0m \u001b[0mx\u001b[0m \u001b[0;34m=\u001b[0m \u001b[0mtorch\u001b[0m\u001b[0;34m.\u001b[0m\u001b[0mtensor\u001b[0m\u001b[0;34m(\u001b[0m\u001b[0;34m[\u001b[0m\u001b[0;36m1\u001b[0m\u001b[0;34m,\u001b[0m \u001b[0;36m2\u001b[0m\u001b[0;34m,\u001b[0m \u001b[0;36m3\u001b[0m\u001b[0;34m]\u001b[0m\u001b[0;34m)\u001b[0m\u001b[0;34m\u001b[0m\u001b[0;34m\u001b[0m\u001b[0m\n\u001b[0;32m----> 3\u001b[0;31m \u001b[0mx\u001b[0m\u001b[0;34m.\u001b[0m\u001b[0mtile\u001b[0m\u001b[0;34m(\u001b[0m\u001b[0;34m(\u001b[0m\u001b[0;34m-\u001b[0m\u001b[0;36m1\u001b[0m\u001b[0;34m,\u001b[0m\u001b[0;34m)\u001b[0m\u001b[0;34m)\u001b[0m\u001b[0;34m\u001b[0m\u001b[0;34m\u001b[0m\u001b[0m\n\u001b[0m",
      "\u001b[0;31mRuntimeError\u001b[0m: Trying to create tensor with negative dimension -3: [-3]"
     ]
    }
   ],
   "source": [
    "# Example 3 - breaking\n",
    "x = torch.tensor([1, 2, 3])\n",
    "x.tile((-1,))"
   ]
  },
  {
   "cell_type": "markdown",
   "metadata": {
    "id": "56PYJt2cuuWH"
   },
   "source": [
    "The code throws an error when we try to call the `tensor.tile()` with *negative values*."
   ]
  },
  {
   "cell_type": "markdown",
   "metadata": {
    "id": "BG6icYFguuWI"
   },
   "source": [
    "The `tensor.tile()` function is useful when we want to repeat the elements of a tensor in a given number of repetitions per dimension."
   ]
  },
  {
   "cell_type": "markdown",
   "metadata": {
    "id": "WTckzXwzuuWJ"
   },
   "source": [
    "## Function 4 - torch.matrix_power()\n",
    "\n",
    "> `torch.matrix_power(input, n, *, out=None)` → Tensor\n",
    "\n",
    "With this function we can raise matrix to power of `n`. If `n` is negative we receive reversed input matrix raised to power of `n`. \n",
    "\n",
    "**Parameters:** \n",
    "- `input` - matrix we need to raise to power of n \n",
    "- `n` — number to raise our matrix to."
   ]
  },
  {
   "cell_type": "code",
   "execution_count": 54,
   "metadata": {
    "colab": {
     "base_uri": "https://localhost:8080/"
    },
    "executionInfo": {
     "elapsed": 323,
     "status": "ok",
     "timestamp": 1633419176269,
     "user": {
      "displayName": "Vikram Vijayaraj",
      "photoUrl": "https://lh3.googleusercontent.com/a-/AOh14Gjb62tBN5pkHkCifEW9lxvCklKO9JozJr5JdquV=s64",
      "userId": "03084184960498933467"
     },
     "user_tz": -330
    },
    "id": "m8vTC1aRuuWK",
    "outputId": "efda8e4f-12fc-473d-b47b-e5a57e95648f"
   },
   "outputs": [
    {
     "name": "stdout",
     "output_type": "stream",
     "text": [
      "tensor([[-0.1368,  0.8134],\n",
      "        [-0.2539,  2.1900]])\n"
     ]
    },
    {
     "data": {
      "text/plain": [
       "tensor([[-0.1878,  1.6700],\n",
       "        [-0.5213,  4.5896]])"
      ]
     },
     "execution_count": 54,
     "metadata": {},
     "output_type": "execute_result"
    }
   ],
   "source": [
    "# Example 1 - working\n",
    "input = torch.randn(2, 2)\n",
    "print(input)\n",
    "torch.matrix_power(input, 2)"
   ]
  },
  {
   "cell_type": "markdown",
   "metadata": {
    "id": "U_I7bmg-uuWL"
   },
   "source": [
    "Here we have tensor as a matrix filled with random numbers and we raise our matrix to power of 2. As, a result we receive a new tensor as output matrix raised to a power of 2."
   ]
  },
  {
   "cell_type": "code",
   "execution_count": 55,
   "metadata": {
    "colab": {
     "base_uri": "https://localhost:8080/"
    },
    "executionInfo": {
     "elapsed": 342,
     "status": "ok",
     "timestamp": 1633419261713,
     "user": {
      "displayName": "Vikram Vijayaraj",
      "photoUrl": "https://lh3.googleusercontent.com/a-/AOh14Gjb62tBN5pkHkCifEW9lxvCklKO9JozJr5JdquV=s64",
      "userId": "03084184960498933467"
     },
     "user_tz": -330
    },
    "id": "Y3xTYwvbuuWL",
    "outputId": "36a6db3b-2e06-49d4-a026-ddb0835254b2"
   },
   "outputs": [
    {
     "name": "stdout",
     "output_type": "stream",
     "text": [
      "tensor([[ 0.4939,  0.5167],\n",
      "        [-2.2017,  0.7680]])\n"
     ]
    },
    {
     "data": {
      "text/plain": [
       "tensor([[-0.2380, -0.2834],\n",
       "        [ 1.2073, -0.3884]])"
      ]
     },
     "execution_count": 55,
     "metadata": {},
     "output_type": "execute_result"
    }
   ],
   "source": [
    "# Example 2 - working\n",
    "input = torch.randn(2, 2)\n",
    "print(input)\n",
    "torch.matrix_power(input, -2)"
   ]
  },
  {
   "cell_type": "markdown",
   "metadata": {
    "id": "Vtl7qUKsuuWM"
   },
   "source": [
    "In this example we have same situation except we have negative `n`. So, we receive reversed input matrix raised to power of 2."
   ]
  },
  {
   "cell_type": "code",
   "execution_count": 56,
   "metadata": {
    "colab": {
     "base_uri": "https://localhost:8080/",
     "height": 252
    },
    "executionInfo": {
     "elapsed": 354,
     "status": "error",
     "timestamp": 1633419327096,
     "user": {
      "displayName": "Vikram Vijayaraj",
      "photoUrl": "https://lh3.googleusercontent.com/a-/AOh14Gjb62tBN5pkHkCifEW9lxvCklKO9JozJr5JdquV=s64",
      "userId": "03084184960498933467"
     },
     "user_tz": -330
    },
    "id": "tSTdP2T5uuWM",
    "outputId": "302128a0-23ec-4054-db22-ff88a626a671"
   },
   "outputs": [
    {
     "name": "stdout",
     "output_type": "stream",
     "text": [
      "tensor([[-0.2963,  1.8110],\n",
      "        [-0.5186,  0.7996],\n",
      "        [-0.9266,  0.0424]])\n"
     ]
    },
    {
     "ename": "RuntimeError",
     "evalue": "ignored",
     "output_type": "error",
     "traceback": [
      "\u001b[0;31m---------------------------------------------------------------------------\u001b[0m",
      "\u001b[0;31mRuntimeError\u001b[0m                              Traceback (most recent call last)",
      "\u001b[0;32m<ipython-input-56-8043ba68ddfc>\u001b[0m in \u001b[0;36m<module>\u001b[0;34m()\u001b[0m\n\u001b[1;32m      2\u001b[0m \u001b[0minput\u001b[0m \u001b[0;34m=\u001b[0m \u001b[0mtorch\u001b[0m\u001b[0;34m.\u001b[0m\u001b[0mrandn\u001b[0m\u001b[0;34m(\u001b[0m\u001b[0;36m3\u001b[0m\u001b[0;34m,\u001b[0m \u001b[0;36m2\u001b[0m\u001b[0;34m)\u001b[0m\u001b[0;34m\u001b[0m\u001b[0;34m\u001b[0m\u001b[0m\n\u001b[1;32m      3\u001b[0m \u001b[0mprint\u001b[0m\u001b[0;34m(\u001b[0m\u001b[0minput\u001b[0m\u001b[0;34m)\u001b[0m\u001b[0;34m\u001b[0m\u001b[0;34m\u001b[0m\u001b[0m\n\u001b[0;32m----> 4\u001b[0;31m \u001b[0mtorch\u001b[0m\u001b[0;34m.\u001b[0m\u001b[0mmatrix_power\u001b[0m\u001b[0;34m(\u001b[0m\u001b[0minput\u001b[0m\u001b[0;34m,\u001b[0m \u001b[0;34m-\u001b[0m\u001b[0;36m2\u001b[0m\u001b[0;34m)\u001b[0m\u001b[0;34m\u001b[0m\u001b[0;34m\u001b[0m\u001b[0m\n\u001b[0m",
      "\u001b[0;31mRuntimeError\u001b[0m: A must be batches of square matrices, but they are 2 by 3 matrices"
     ]
    }
   ],
   "source": [
    "# Example 3 - breaking\n",
    "input = torch.randn(3, 2)\n",
    "print(input)\n",
    "torch.matrix_power(input, -2)"
   ]
  },
  {
   "cell_type": "markdown",
   "metadata": {
    "id": "4639g0OduuWM"
   },
   "source": [
    "Here we receive a ***Runtime Error*** because our input matrix is not a square matrix where we have same number of rows and columns."
   ]
  },
  {
   "cell_type": "markdown",
   "metadata": {
    "id": "rIVI78uQuuWN"
   },
   "source": [
    "Raising matrices to a power of n is very useful sometimes and easy to implement with `torch.matrix_power()` function."
   ]
  },
  {
   "cell_type": "markdown",
   "metadata": {
    "id": "JvDpy25CuuWO"
   },
   "source": [
    "## Function 5 - torch.Tensor.clone()\n",
    "\n",
    "> `Tensor.clone(*, memory_format=torch.preserve_format)` → Tensor\n",
    "\n",
    "`torch.Tensor.clone()` returns a copy of the tensor with the same size and data type."
   ]
  },
  {
   "cell_type": "code",
   "execution_count": 65,
   "metadata": {
    "colab": {
     "base_uri": "https://localhost:8080/"
    },
    "executionInfo": {
     "elapsed": 326,
     "status": "ok",
     "timestamp": 1633419778442,
     "user": {
      "displayName": "Vikram Vijayaraj",
      "photoUrl": "https://lh3.googleusercontent.com/a-/AOh14Gjb62tBN5pkHkCifEW9lxvCklKO9JozJr5JdquV=s64",
      "userId": "03084184960498933467"
     },
     "user_tz": -330
    },
    "id": "FqfqKAyIuuWO",
    "outputId": "df534841-2e4d-4120-c61e-8ca88d09e5c2"
   },
   "outputs": [
    {
     "name": "stdout",
     "output_type": "stream",
     "text": [
      "b = tensor([[1., 2.],\n",
      "        [3., 4.],\n",
      "        [5., 6.]])\n",
      "a = tensor([[1., 2.],\n",
      "        [3., 4.],\n",
      "        [5., 6.]])\n"
     ]
    }
   ],
   "source": [
    "# Example 1 - working\n",
    "a = torch.tensor([[1., 2.],\n",
    "                  [3., 4.],\n",
    "                  [5., 6.]])\n",
    "b = a.clone()\n",
    "print(f\"b = {b}\")\n",
    "print(f\"a = {a}\")"
   ]
  },
  {
   "cell_type": "markdown",
   "metadata": {
    "id": "2oFoNlNVuuWO"
   },
   "source": [
    "In this example, we can create a deepcopy of the tensor using `.clone` method."
   ]
  },
  {
   "cell_type": "code",
   "execution_count": 66,
   "metadata": {
    "colab": {
     "base_uri": "https://localhost:8080/"
    },
    "executionInfo": {
     "elapsed": 327,
     "status": "ok",
     "timestamp": 1633419796890,
     "user": {
      "displayName": "Vikram Vijayaraj",
      "photoUrl": "https://lh3.googleusercontent.com/a-/AOh14Gjb62tBN5pkHkCifEW9lxvCklKO9JozJr5JdquV=s64",
      "userId": "03084184960498933467"
     },
     "user_tz": -330
    },
    "id": "l9cXuT47uuWP",
    "outputId": "630c6249-200e-45d1-8a12-8e9a09e959da"
   },
   "outputs": [
    {
     "name": "stdout",
     "output_type": "stream",
     "text": [
      "b = tensor([[1., 2.],\n",
      "        [3., 4.],\n",
      "        [5., 6.]])\n",
      "a = tensor([[1., 2.],\n",
      "        [9., 4.],\n",
      "        [5., 6.]])\n"
     ]
    }
   ],
   "source": [
    "# Example 2 - working\n",
    "a = torch.tensor([[1., 2.],\n",
    "                  [3., 4.],\n",
    "                  [5., 6.]])\n",
    "b = a.clone()\n",
    "a[1, 0] = 9\n",
    "print(f\"b = {b}\")\n",
    "print(f\"a = {a}\")"
   ]
  },
  {
   "cell_type": "markdown",
   "metadata": {
    "id": "_4gMKUh7uuWP"
   },
   "source": [
    "Here, after cloning `a` to `b`, the element is the 2nd row 1st column of `a` is assigned to a new value which doesn't reflect in b."
   ]
  },
  {
   "cell_type": "code",
   "execution_count": null,
   "metadata": {
    "id": "15haJsSMuuWP"
   },
   "outputs": [],
   "source": [
    "# Example 3 - breaking\n",
    "a = torch.tensor([1, 2, 3])\n",
    "a = a.numpy()\n",
    "b = a.clone()\n",
    "print(b)"
   ]
  },
  {
   "cell_type": "markdown",
   "metadata": {
    "id": "VT6mVJbxuuWP"
   },
   "source": [
    "`.clone()` function cannot be used with numpy array."
   ]
  },
  {
   "cell_type": "markdown",
   "metadata": {
    "id": "U3_GKLQxuuWQ"
   },
   "source": [
    "When we create a copy of the tensor using `x=y` , changing one variable also affects the other variable since it points to the same memory location. To avoid this, we can create a deepcopy of the tensor using `.clone()` method."
   ]
  },
  {
   "cell_type": "markdown",
   "metadata": {
    "id": "2kTRUaB7uuWR"
   },
   "source": [
    "## Conclusion\n",
    "\n",
    "In this notebook, we got insights on 5 useful functions of PyTorch library. These functions can be used for different variety of purposes and are way to ease for solving simple tasks of deep learning practitioners.\n",
    "\n",
    "The functions covered in this notebook, \n",
    "- `torch.eye()`\n",
    "- `torch.chunk()`\n",
    "- `torch.tile()`\n",
    "- `torch.matrix_power()`\n",
    "- `torch.Tensor.clone()`"
   ]
  },
  {
   "cell_type": "markdown",
   "metadata": {
    "id": "NgYjrEvZuuWR"
   },
   "source": [
    "## Reference Links\n",
    "\n",
    ">* Official documentation for tensor operations: https://pytorch.org/docs/stable/torch.html\n",
    ">* Great article on Towards data science: https://towardsdatascience.com/useful-pytorch-functions-356de5f31a1e\n",
    ">* A great documentation: https://www.kite.com/python/docs"
   ]
  },
  {
   "cell_type": "code",
   "execution_count": null,
   "metadata": {
    "id": "1Cy30rNGuuWS"
   },
   "outputs": [],
   "source": []
  }
 ],
 "metadata": {
  "colab": {
   "name": "01-tensor-operations.ipynb",
   "provenance": []
  },
  "kernelspec": {
   "display_name": "Python 3 (ipykernel)",
   "language": "python",
   "name": "python3"
  },
  "language_info": {
   "codemirror_mode": {
    "name": "ipython",
    "version": 3
   },
   "file_extension": ".py",
   "mimetype": "text/x-python",
   "name": "python",
   "nbconvert_exporter": "python",
   "pygments_lexer": "ipython3",
   "version": "3.9.7"
  }
 },
 "nbformat": 4,
 "nbformat_minor": 1
}
